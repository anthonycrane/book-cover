{
 "cells": [
  {
   "cell_type": "code",
   "execution_count": null,
   "metadata": {
    "collapsed": false
   },
   "outputs": [],
   "source": [
    "import pandas as pd \n",
    "import gzip\n",
    "%matplotlib inline\n",
    "import matplotlib.pyplot as plt\n",
    "import urllib\n",
    "from IPython.display import Image\n",
    "from pylab import *\n",
    "\n",
    "## Function to parse .gz file\n",
    "def parse(path): \n",
    "    g = gzip.open(path, 'rb') \n",
    "    for l in g: \n",
    "        yield eval(l)\n",
    "\n",
    "## Function to convert k lines of .gz file to pandas data frame\n",
    "def getDF(path, k): \n",
    "    i = 0 \n",
    "    df = {} \n",
    "    for d in parse(path): \n",
    "        if(i<k):\n",
    "            df[i] = d \n",
    "            i += 1 \n",
    "        else:\n",
    "            break\n",
    "    return pd.DataFrame.from_dict(df, orient='index') \n",
    "\n",
    "## Function to retrieve image for a book url\n",
    "def getImage(url, fout, name):\n",
    "    try:\n",
    "        urllib.urlretrieve(url,fout)\n",
    "    except:\n",
    "        print('image for book ' + name + ' not present.')"
   ]
  },
  {
   "cell_type": "code",
   "execution_count": null,
   "metadata": {
    "collapsed": false
   },
   "outputs": [],
   "source": [
    "## Read in the book reviews and metadata\n",
    "reviews = getDF('Data/reviews_Books.json.gz', k = 100)\n",
    "meta = getDF('Data/meta_Books.json.gz', k = 100)"
   ]
  },
  {
   "cell_type": "code",
   "execution_count": null,
   "metadata": {
    "collapsed": false
   },
   "outputs": [],
   "source": [
    "plt.figure();\n",
    "reviews['overall'].plot(kind='hist')\n",
    "plt.show();"
   ]
  },
  {
   "cell_type": "code",
   "execution_count": null,
   "metadata": {
    "collapsed": false
   },
   "outputs": [],
   "source": [
    "## Take a look at the reviews\n",
    "reviews.head()"
   ]
  },
  {
   "cell_type": "code",
   "execution_count": null,
   "metadata": {
    "collapsed": false
   },
   "outputs": [],
   "source": [
    "## Take a look at the meta\n",
    "meta.head()"
   ]
  },
  {
   "cell_type": "code",
   "execution_count": null,
   "metadata": {
    "collapsed": false
   },
   "outputs": [],
   "source": [
    "## Downloads\n",
    "for i in range(df_meta.shape[0]):\n",
    "    getImage(df_meta['imUrl'][i],'bookImgs/'+ df_meta['asin'][i]+'.jpg',df_meta['asin'][i])"
   ]
  }
 ],
 "metadata": {
  "kernelspec": {
   "display_name": "Python 2",
   "language": "python",
   "name": "python2"
  },
  "language_info": {
   "codemirror_mode": {
    "name": "ipython",
    "version": 2
   },
   "file_extension": ".py",
   "mimetype": "text/x-python",
   "name": "python",
   "nbconvert_exporter": "python",
   "pygments_lexer": "ipython2",
   "version": "2.7.6"
  }
 },
 "nbformat": 4,
 "nbformat_minor": 0
}
